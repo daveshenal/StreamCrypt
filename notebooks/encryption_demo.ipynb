{
 "cells": [
  {
   "cell_type": "code",
   "execution_count": null,
   "id": "189a888e",
   "metadata": {},
   "outputs": [],
   "source": [
    "# Imports\n",
    "from cryptography.hazmat.primitives.ciphers.aead import ChaCha20Poly1305\n",
    "import os\n",
    "import lz4.frame"
   ]
  },
  {
   "cell_type": "code",
   "execution_count": 2,
   "id": "7abe922c",
   "metadata": {},
   "outputs": [
    {
     "name": "stdout",
     "output_type": "stream",
     "text": [
      "32\n"
     ]
    }
   ],
   "source": [
    "# Encryption key (32 bytes for ChaCha20)\n",
    "ENCRYPTION_KEY = b'\\xc2\\xfd\\xf3v`I\\xdb]a+M\\xcf\\x12;\\xa9\\x01A\\x08\\xdd\\xdf\\x89\\x05\\xdc\\x05f\\xa2,\\xe1\"I\\x0ft'\n",
    "print(len(ENCRYPTION_KEY))  # Should print 32\n",
    "\n",
    "NONCE_SIZE = 12  # ChaCha20 nonce size"
   ]
  },
  {
   "cell_type": "code",
   "execution_count": 3,
   "id": "73a9e19a",
   "metadata": {},
   "outputs": [],
   "source": [
    "# Function to compress data using LZ4\n",
    "def compress_data(data: bytes) -> bytes:\n",
    "    return lz4.frame.compress(data)\n",
    "\n",
    "# Function to decompress data using LZ4\n",
    "def decompress_data(compressed_data: bytes) -> bytes:\n",
    "    return lz4.frame.decompress(compressed_data)"
   ]
  },
  {
   "cell_type": "code",
   "execution_count": 4,
   "id": "a6ec8114",
   "metadata": {},
   "outputs": [],
   "source": [
    "# Function to encrypt data using ChaCha20-Poly1305\n",
    "def encrypt_data(data: bytes) -> bytes:\n",
    "    nonce = os.urandom(NONCE_SIZE)\n",
    "    cipher = ChaCha20Poly1305(ENCRYPTION_KEY)\n",
    "    encrypted_data = cipher.encrypt(nonce, data, None)  # None for associated data\n",
    "    return nonce + encrypted_data\n",
    "\n",
    "\n",
    "# Function to decrypt data using ChaCha20-Poly1305\n",
    "def decrypt_data(encrypted_data: bytes) -> bytes:\n",
    "    nonce = encrypted_data[:NONCE_SIZE]\n",
    "    ciphertext = encrypted_data[NONCE_SIZE:]\n",
    "    cipher = ChaCha20Poly1305(ENCRYPTION_KEY)\n",
    "    return cipher.decrypt(nonce, ciphertext, None)  # None for associated data"
   ]
  },
  {
   "cell_type": "code",
   "execution_count": 6,
   "id": "e723ceb0",
   "metadata": {},
   "outputs": [
    {
     "name": "stdout",
     "output_type": "stream",
     "text": [
      "Encrypted data: b\"\\xbfMm\\xf4\\xf1\\xd4\\xa4U\\xb9\\x1f\\x80#\\xe9\\xda\\x01Q\\xc1\\xfcUG\\xe9,\\xb8\\xab\\xee\\xd8yr\\xe1?\\xcc\\xac\\x03Wc\\xfa\\xc7w\\xe2\\x86\\x19}\\xe6\\xf4\\xcd\\xd2\\x15\\xee\\x8b\\x1e\\xd7)\\xfd\\xe8\\x863*\\x94[<\\x16\\x97\\xaeU\\xb9\\xfaC\\x041`_'\\x8a\\x9b#\\xb4m$\\xf0\\xbe\\xdb\\xcd$\\x13\\xde\\xe1\\x97[\\x16\"\n",
      "Decrypted data: Hello Agent, this is a secret message!\n"
     ]
    }
   ],
   "source": [
    "try:\n",
    "    # Encrypt data\n",
    "    data = b\"Hello Agent, this is a secret message!\"\n",
    "    compressed_data = compress_data(data)\n",
    "    encrypted_data = encrypt_data(compressed_data)\n",
    "    print(f\"Encrypted data: {encrypted_data}\")\n",
    "\n",
    "    # Decrypt data\n",
    "    decrypted_data = decrypt_data(encrypted_data)\n",
    "    decompressed_data = decompress_data(decrypted_data)\n",
    "    print(f\"Decrypted data: {decompressed_data.decode()}\")\n",
    "except Exception as e:\n",
    "    print(f\"Error: {e}\")"
   ]
  }
 ],
 "metadata": {
  "kernelspec": {
   "display_name": "tf_py310",
   "language": "python",
   "name": "python3"
  },
  "language_info": {
   "codemirror_mode": {
    "name": "ipython",
    "version": 3
   },
   "file_extension": ".py",
   "mimetype": "text/x-python",
   "name": "python",
   "nbconvert_exporter": "python",
   "pygments_lexer": "ipython3",
   "version": "3.10.14"
  }
 },
 "nbformat": 4,
 "nbformat_minor": 5
}
